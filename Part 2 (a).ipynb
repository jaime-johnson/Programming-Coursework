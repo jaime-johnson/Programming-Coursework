{
 "cells": [
  {
   "cell_type": "code",
   "execution_count": 1,
   "id": "cba459eb",
   "metadata": {},
   "outputs": [],
   "source": [
    "#Importing Libraries\n",
    "import pandas as pd\n",
    "import numpy as np\n",
    "import matplotlib.pyplot as plt\n",
    "import seaborn as sns"
   ]
  },
  {
   "cell_type": "code",
   "execution_count": 2,
   "id": "6ab48e93",
   "metadata": {},
   "outputs": [],
   "source": [
    "#Importing the cleaned dataset\n",
    "df = pd.read_csv(\"cleaned_dataset_2006_2007.csv\")"
   ]
  },
  {
   "cell_type": "code",
   "execution_count": 3,
   "id": "bc13ff77",
   "metadata": {},
   "outputs": [
    {
     "data": {
      "text/html": [
       "<div>\n",
       "<style scoped>\n",
       "    .dataframe tbody tr th:only-of-type {\n",
       "        vertical-align: middle;\n",
       "    }\n",
       "\n",
       "    .dataframe tbody tr th {\n",
       "        vertical-align: top;\n",
       "    }\n",
       "\n",
       "    .dataframe thead th {\n",
       "        text-align: right;\n",
       "    }\n",
       "</style>\n",
       "<table border=\"1\" class=\"dataframe\">\n",
       "  <thead>\n",
       "    <tr style=\"text-align: right;\">\n",
       "      <th></th>\n",
       "      <th>Year</th>\n",
       "      <th>Month</th>\n",
       "      <th>DayofMonth</th>\n",
       "      <th>DayOfWeek</th>\n",
       "      <th>DepTime</th>\n",
       "      <th>CRSDepTime</th>\n",
       "      <th>ArrTime</th>\n",
       "      <th>CRSArrTime</th>\n",
       "      <th>UniqueCarrier</th>\n",
       "      <th>FlightNum</th>\n",
       "      <th>...</th>\n",
       "      <th>TaxiIn</th>\n",
       "      <th>TaxiOut</th>\n",
       "      <th>Cancelled</th>\n",
       "      <th>Diverted</th>\n",
       "      <th>CarrierDelay</th>\n",
       "      <th>WeatherDelay</th>\n",
       "      <th>NASDelay</th>\n",
       "      <th>SecurityDelay</th>\n",
       "      <th>LateAircraftDelay</th>\n",
       "      <th>TotalDelay</th>\n",
       "    </tr>\n",
       "  </thead>\n",
       "  <tbody>\n",
       "    <tr>\n",
       "      <th>0</th>\n",
       "      <td>2006</td>\n",
       "      <td>1</td>\n",
       "      <td>11</td>\n",
       "      <td>3</td>\n",
       "      <td>743.0</td>\n",
       "      <td>745</td>\n",
       "      <td>1024.0</td>\n",
       "      <td>1018</td>\n",
       "      <td>US</td>\n",
       "      <td>343</td>\n",
       "      <td>...</td>\n",
       "      <td>45</td>\n",
       "      <td>13</td>\n",
       "      <td>0</td>\n",
       "      <td>0</td>\n",
       "      <td>0</td>\n",
       "      <td>0</td>\n",
       "      <td>0</td>\n",
       "      <td>0</td>\n",
       "      <td>0</td>\n",
       "      <td>4.0</td>\n",
       "    </tr>\n",
       "    <tr>\n",
       "      <th>1</th>\n",
       "      <td>2006</td>\n",
       "      <td>1</td>\n",
       "      <td>11</td>\n",
       "      <td>3</td>\n",
       "      <td>1053.0</td>\n",
       "      <td>1053</td>\n",
       "      <td>1313.0</td>\n",
       "      <td>1318</td>\n",
       "      <td>US</td>\n",
       "      <td>613</td>\n",
       "      <td>...</td>\n",
       "      <td>27</td>\n",
       "      <td>19</td>\n",
       "      <td>0</td>\n",
       "      <td>0</td>\n",
       "      <td>0</td>\n",
       "      <td>0</td>\n",
       "      <td>0</td>\n",
       "      <td>0</td>\n",
       "      <td>0</td>\n",
       "      <td>-5.0</td>\n",
       "    </tr>\n",
       "    <tr>\n",
       "      <th>2</th>\n",
       "      <td>2006</td>\n",
       "      <td>1</td>\n",
       "      <td>11</td>\n",
       "      <td>3</td>\n",
       "      <td>1915.0</td>\n",
       "      <td>1915</td>\n",
       "      <td>2110.0</td>\n",
       "      <td>2133</td>\n",
       "      <td>US</td>\n",
       "      <td>617</td>\n",
       "      <td>...</td>\n",
       "      <td>4</td>\n",
       "      <td>11</td>\n",
       "      <td>0</td>\n",
       "      <td>0</td>\n",
       "      <td>0</td>\n",
       "      <td>0</td>\n",
       "      <td>0</td>\n",
       "      <td>0</td>\n",
       "      <td>0</td>\n",
       "      <td>-23.0</td>\n",
       "    </tr>\n",
       "    <tr>\n",
       "      <th>3</th>\n",
       "      <td>2006</td>\n",
       "      <td>1</td>\n",
       "      <td>11</td>\n",
       "      <td>3</td>\n",
       "      <td>1753.0</td>\n",
       "      <td>1755</td>\n",
       "      <td>1925.0</td>\n",
       "      <td>1933</td>\n",
       "      <td>US</td>\n",
       "      <td>300</td>\n",
       "      <td>...</td>\n",
       "      <td>16</td>\n",
       "      <td>10</td>\n",
       "      <td>0</td>\n",
       "      <td>0</td>\n",
       "      <td>0</td>\n",
       "      <td>0</td>\n",
       "      <td>0</td>\n",
       "      <td>0</td>\n",
       "      <td>0</td>\n",
       "      <td>-10.0</td>\n",
       "    </tr>\n",
       "    <tr>\n",
       "      <th>4</th>\n",
       "      <td>2006</td>\n",
       "      <td>1</td>\n",
       "      <td>11</td>\n",
       "      <td>3</td>\n",
       "      <td>824.0</td>\n",
       "      <td>832</td>\n",
       "      <td>1015.0</td>\n",
       "      <td>1015</td>\n",
       "      <td>US</td>\n",
       "      <td>765</td>\n",
       "      <td>...</td>\n",
       "      <td>27</td>\n",
       "      <td>12</td>\n",
       "      <td>0</td>\n",
       "      <td>0</td>\n",
       "      <td>0</td>\n",
       "      <td>0</td>\n",
       "      <td>0</td>\n",
       "      <td>0</td>\n",
       "      <td>0</td>\n",
       "      <td>-8.0</td>\n",
       "    </tr>\n",
       "    <tr>\n",
       "      <th>...</th>\n",
       "      <td>...</td>\n",
       "      <td>...</td>\n",
       "      <td>...</td>\n",
       "      <td>...</td>\n",
       "      <td>...</td>\n",
       "      <td>...</td>\n",
       "      <td>...</td>\n",
       "      <td>...</td>\n",
       "      <td>...</td>\n",
       "      <td>...</td>\n",
       "      <td>...</td>\n",
       "      <td>...</td>\n",
       "      <td>...</td>\n",
       "      <td>...</td>\n",
       "      <td>...</td>\n",
       "      <td>...</td>\n",
       "      <td>...</td>\n",
       "      <td>...</td>\n",
       "      <td>...</td>\n",
       "      <td>...</td>\n",
       "      <td>...</td>\n",
       "    </tr>\n",
       "    <tr>\n",
       "      <th>14268885</th>\n",
       "      <td>2007</td>\n",
       "      <td>12</td>\n",
       "      <td>15</td>\n",
       "      <td>6</td>\n",
       "      <td>612.0</td>\n",
       "      <td>615</td>\n",
       "      <td>1342.0</td>\n",
       "      <td>1348</td>\n",
       "      <td>DL</td>\n",
       "      <td>46</td>\n",
       "      <td>...</td>\n",
       "      <td>11</td>\n",
       "      <td>21</td>\n",
       "      <td>0</td>\n",
       "      <td>0</td>\n",
       "      <td>0</td>\n",
       "      <td>0</td>\n",
       "      <td>0</td>\n",
       "      <td>0</td>\n",
       "      <td>0</td>\n",
       "      <td>-9.0</td>\n",
       "    </tr>\n",
       "    <tr>\n",
       "      <th>14268886</th>\n",
       "      <td>2007</td>\n",
       "      <td>12</td>\n",
       "      <td>15</td>\n",
       "      <td>6</td>\n",
       "      <td>1940.0</td>\n",
       "      <td>1855</td>\n",
       "      <td>2153.0</td>\n",
       "      <td>2129</td>\n",
       "      <td>DL</td>\n",
       "      <td>47</td>\n",
       "      <td>...</td>\n",
       "      <td>10</td>\n",
       "      <td>12</td>\n",
       "      <td>0</td>\n",
       "      <td>0</td>\n",
       "      <td>0</td>\n",
       "      <td>24</td>\n",
       "      <td>0</td>\n",
       "      <td>0</td>\n",
       "      <td>0</td>\n",
       "      <td>69.0</td>\n",
       "    </tr>\n",
       "    <tr>\n",
       "      <th>14268887</th>\n",
       "      <td>2007</td>\n",
       "      <td>12</td>\n",
       "      <td>15</td>\n",
       "      <td>6</td>\n",
       "      <td>1341.0</td>\n",
       "      <td>1335</td>\n",
       "      <td>1856.0</td>\n",
       "      <td>1855</td>\n",
       "      <td>DL</td>\n",
       "      <td>48</td>\n",
       "      <td>...</td>\n",
       "      <td>8</td>\n",
       "      <td>13</td>\n",
       "      <td>0</td>\n",
       "      <td>0</td>\n",
       "      <td>0</td>\n",
       "      <td>0</td>\n",
       "      <td>0</td>\n",
       "      <td>0</td>\n",
       "      <td>0</td>\n",
       "      <td>7.0</td>\n",
       "    </tr>\n",
       "    <tr>\n",
       "      <th>14268888</th>\n",
       "      <td>2007</td>\n",
       "      <td>12</td>\n",
       "      <td>15</td>\n",
       "      <td>6</td>\n",
       "      <td>1646.0</td>\n",
       "      <td>1645</td>\n",
       "      <td>1827.0</td>\n",
       "      <td>1836</td>\n",
       "      <td>DL</td>\n",
       "      <td>49</td>\n",
       "      <td>...</td>\n",
       "      <td>6</td>\n",
       "      <td>13</td>\n",
       "      <td>0</td>\n",
       "      <td>0</td>\n",
       "      <td>0</td>\n",
       "      <td>0</td>\n",
       "      <td>0</td>\n",
       "      <td>0</td>\n",
       "      <td>0</td>\n",
       "      <td>-8.0</td>\n",
       "    </tr>\n",
       "    <tr>\n",
       "      <th>14268889</th>\n",
       "      <td>2007</td>\n",
       "      <td>12</td>\n",
       "      <td>15</td>\n",
       "      <td>6</td>\n",
       "      <td>729.0</td>\n",
       "      <td>730</td>\n",
       "      <td>918.0</td>\n",
       "      <td>909</td>\n",
       "      <td>DL</td>\n",
       "      <td>55</td>\n",
       "      <td>...</td>\n",
       "      <td>13</td>\n",
       "      <td>16</td>\n",
       "      <td>0</td>\n",
       "      <td>0</td>\n",
       "      <td>0</td>\n",
       "      <td>0</td>\n",
       "      <td>0</td>\n",
       "      <td>0</td>\n",
       "      <td>0</td>\n",
       "      <td>8.0</td>\n",
       "    </tr>\n",
       "  </tbody>\n",
       "</table>\n",
       "<p>14268890 rows × 29 columns</p>\n",
       "</div>"
      ],
      "text/plain": [
       "          Year  Month  DayofMonth  DayOfWeek  DepTime  CRSDepTime  ArrTime  \\\n",
       "0         2006      1          11          3    743.0         745   1024.0   \n",
       "1         2006      1          11          3   1053.0        1053   1313.0   \n",
       "2         2006      1          11          3   1915.0        1915   2110.0   \n",
       "3         2006      1          11          3   1753.0        1755   1925.0   \n",
       "4         2006      1          11          3    824.0         832   1015.0   \n",
       "...        ...    ...         ...        ...      ...         ...      ...   \n",
       "14268885  2007     12          15          6    612.0         615   1342.0   \n",
       "14268886  2007     12          15          6   1940.0        1855   2153.0   \n",
       "14268887  2007     12          15          6   1341.0        1335   1856.0   \n",
       "14268888  2007     12          15          6   1646.0        1645   1827.0   \n",
       "14268889  2007     12          15          6    729.0         730    918.0   \n",
       "\n",
       "          CRSArrTime UniqueCarrier  FlightNum  ... TaxiIn  TaxiOut  Cancelled  \\\n",
       "0               1018            US        343  ...     45       13          0   \n",
       "1               1318            US        613  ...     27       19          0   \n",
       "2               2133            US        617  ...      4       11          0   \n",
       "3               1933            US        300  ...     16       10          0   \n",
       "4               1015            US        765  ...     27       12          0   \n",
       "...              ...           ...        ...  ...    ...      ...        ...   \n",
       "14268885        1348            DL         46  ...     11       21          0   \n",
       "14268886        2129            DL         47  ...     10       12          0   \n",
       "14268887        1855            DL         48  ...      8       13          0   \n",
       "14268888        1836            DL         49  ...      6       13          0   \n",
       "14268889         909            DL         55  ...     13       16          0   \n",
       "\n",
       "          Diverted  CarrierDelay  WeatherDelay NASDelay SecurityDelay  \\\n",
       "0                0             0             0        0             0   \n",
       "1                0             0             0        0             0   \n",
       "2                0             0             0        0             0   \n",
       "3                0             0             0        0             0   \n",
       "4                0             0             0        0             0   \n",
       "...            ...           ...           ...      ...           ...   \n",
       "14268885         0             0             0        0             0   \n",
       "14268886         0             0            24        0             0   \n",
       "14268887         0             0             0        0             0   \n",
       "14268888         0             0             0        0             0   \n",
       "14268889         0             0             0        0             0   \n",
       "\n",
       "          LateAircraftDelay  TotalDelay  \n",
       "0                         0         4.0  \n",
       "1                         0        -5.0  \n",
       "2                         0       -23.0  \n",
       "3                         0       -10.0  \n",
       "4                         0        -8.0  \n",
       "...                     ...         ...  \n",
       "14268885                  0        -9.0  \n",
       "14268886                  0        69.0  \n",
       "14268887                  0         7.0  \n",
       "14268888                  0        -8.0  \n",
       "14268889                  0         8.0  \n",
       "\n",
       "[14268890 rows x 29 columns]"
      ]
     },
     "execution_count": 3,
     "metadata": {},
     "output_type": "execute_result"
    }
   ],
   "source": [
    "df.head(-5)"
   ]
  },
  {
   "cell_type": "code",
   "execution_count": 4,
   "id": "25e5990c",
   "metadata": {},
   "outputs": [
    {
     "data": {
      "text/plain": [
       "(14268895, 29)"
      ]
     },
     "execution_count": 4,
     "metadata": {},
     "output_type": "execute_result"
    }
   ],
   "source": [
    "df.shape"
   ]
  },
  {
   "cell_type": "markdown",
   "id": "0d0b7642",
   "metadata": {},
   "source": [
    "What are the best times to minimise delays each year?\n",
    "\n",
    "Assumption: Time is considered as the CRSDepTime"
   ]
  },
  {
   "cell_type": "code",
   "execution_count": 5,
   "id": "641fac11",
   "metadata": {},
   "outputs": [],
   "source": [
    "#creating time slots\n",
    "df['TimeSlots'] = df[\"CRSDepTime\"].apply(lambda x:\n",
    "                                       '12am-4am' if x<400 else(\n",
    "                                       '4am-8am' if x>=400 and x<800 else(\n",
    "                                       '8am-12pm' if x>=800 and x<1200 else(\n",
    "                                       '12pm-4pm' if x>=1200 and x<1600 else(\n",
    "                                       '4pm-8pm' if x>=1600 and x<2000 else(\n",
    "                                       '8pm-12am' if x>=2000 and x<2400 else 'invalid'))))))\n",
    "\n",
    "                                     "
   ]
  },
  {
   "cell_type": "code",
   "execution_count": 6,
   "id": "6483274a",
   "metadata": {},
   "outputs": [],
   "source": [
    "#splitting the df by years\n",
    "year_2006 = df[df['Year'] == 2006]\n",
    "year_2007 = df[df['Year'] == 2007]"
   ]
  },
  {
   "cell_type": "code",
   "execution_count": 40,
   "id": "a253935d",
   "metadata": {},
   "outputs": [
    {
     "data": {
      "text/plain": [
       "TimeSlots\n",
       "4am-8am      3.0\n",
       "12am-4am     9.0\n",
       "8am-12pm    10.0\n",
       "12pm-4pm    21.0\n",
       "8pm-12am    28.0\n",
       "4pm-8pm     31.0\n",
       "Name: TotalDelay, dtype: float64"
      ]
     },
     "execution_count": 40,
     "metadata": {},
     "output_type": "execute_result"
    }
   ],
   "source": [
    "#finding the average total delay in 2006 for different time slots\n",
    "year_2006.groupby(['TimeSlots'])['TotalDelay'].mean().sort_values().round()"
   ]
  },
  {
   "cell_type": "code",
   "execution_count": 41,
   "id": "973027c9",
   "metadata": {},
   "outputs": [
    {
     "data": {
      "text/plain": [
       "TimeSlots\n",
       "4am-8am      5.0\n",
       "12am-4am    10.0\n",
       "8am-12pm    12.0\n",
       "12pm-4pm    24.0\n",
       "8pm-12am    33.0\n",
       "4pm-8pm     35.0\n",
       "Name: TotalDelay, dtype: float64"
      ]
     },
     "execution_count": 41,
     "metadata": {},
     "output_type": "execute_result"
    }
   ],
   "source": [
    "#finding the average total delay in 2007 for different time slots\n",
    "year_2007.groupby(['TimeSlots'])['TotalDelay'].mean().sort_values().round()\n"
   ]
  },
  {
   "cell_type": "code",
   "execution_count": 42,
   "id": "ceb92cb8",
   "metadata": {},
   "outputs": [],
   "source": [
    "df['AverageTotalDelay_TS'] = df.groupby(['Year','TimeSlots'])['TotalDelay'].transform('mean').round()\n"
   ]
  },
  {
   "cell_type": "code",
   "execution_count": 16,
   "id": "861cc70f",
   "metadata": {},
   "outputs": [
    {
     "data": {
      "image/png": "[encoded data removed]",
      "text/plain": [
       "<Figure size 640x480 with 1 Axes>"
      ]
     },
     "metadata": {},
     "output_type": "display_data"
    },
    {
     "data": {
      "text/plain": [
       "<Figure size 640x480 with 0 Axes>"
      ]
     },
     "metadata": {},
     "output_type": "display_data"
    }
   ],
   "source": [
    "#creating a side by side bar graph to represent average total delay for different time slots\n",
    "custom_order = [ '12am-4am', '4am-8am', '8am-12pm', '12pm-4pm', '4pm-8pm', '8pm-12am']\n",
    "\n",
    "sns.barplot(data=df, x =\"TimeSlots\", y = \"AverageTotalDelay_TS\", hue= \"Year\", palette = \"husl\",zorder=2, order=custom_order)\n",
    "plt.title(\"Average Total Delay for Different Time Slots\",size =13)\n",
    "plt.grid(axis='y',linewidth = 1)\n",
    "plt.ylabel('Average Total Delay')\n",
    "plt.xlabel('Time Slots')\n",
    "plt.show()\n",
    "plt.savefig('Part 2(a)-python.png')"
   ]
  },
  {
   "cell_type": "markdown",
   "id": "e7a8eaed",
   "metadata": {},
   "source": [
    "What are the best days of the week to minimise delays each year?"
   ]
  },
  {
   "cell_type": "code",
   "execution_count": 43,
   "id": "1a1f5f13",
   "metadata": {},
   "outputs": [
    {
     "data": {
      "text/plain": [
       "DayOfWeek\n",
       "6    13.0\n",
       "2    14.0\n",
       "3    17.0\n",
       "7    18.0\n",
       "1    19.0\n",
       "4    23.0\n",
       "5    25.0\n",
       "Name: TotalDelay, dtype: float64"
      ]
     },
     "execution_count": 43,
     "metadata": {},
     "output_type": "execute_result"
    }
   ],
   "source": [
    "#finding the average delay in 2006 for days of the week\n",
    "year_2006.groupby(['DayOfWeek'])['TotalDelay'].mean().sort_values().round()"
   ]
  },
  {
   "cell_type": "code",
   "execution_count": 44,
   "id": "e97a8bd6",
   "metadata": {},
   "outputs": [
    {
     "data": {
      "text/plain": [
       "DayOfWeek\n",
       "6    15.0\n",
       "2    18.0\n",
       "3    21.0\n",
       "7    22.0\n",
       "1    22.0\n",
       "4    25.0\n",
       "5    27.0\n",
       "Name: TotalDelay, dtype: float64"
      ]
     },
     "execution_count": 44,
     "metadata": {},
     "output_type": "execute_result"
    }
   ],
   "source": [
    "#finding the average delay in 2007 for days of the week\n",
    "year_2007.groupby(['DayOfWeek'])['TotalDelay'].mean().sort_values().round()"
   ]
  },
  {
   "cell_type": "code",
   "execution_count": 7,
   "id": "e3300023",
   "metadata": {},
   "outputs": [],
   "source": [
    "df['AverageTotalDelay_Dow'] = df.groupby(['Year','DayOfWeek'])['TotalDelay'].transform('mean').round()"
   ]
  },
  {
   "cell_type": "code",
   "execution_count": 8,
   "id": "d196706f",
   "metadata": {},
   "outputs": [
    {
     "data": {
      "image/png": "[encoded data removed]",
      "text/plain": [
       "<Figure size 640x480 with 1 Axes>"
      ]
     },
     "metadata": {},
     "output_type": "display_data"
    },
    {
     "data": {
      "text/plain": [
       "<Figure size 640x480 with 0 Axes>"
      ]
     },
     "metadata": {},
     "output_type": "display_data"
    }
   ],
   "source": [
    "#creating a horizontal side by side bar graph to represent average total delay for days of the week\n",
    "sns.barplot(data=df, y =\"DayOfWeek\", x =\"AverageTotalDelay_Dow\", hue=\"Year\", palette = \"Dark2\",zorder=2, orient='h')\n",
    "plt.title(\"Average Total Delay for Days of the Week\",size =13)\n",
    "plt.grid(axis='x',linewidth = 1)\n",
    "plt.xlabel('Average Total Delay')\n",
    "plt.ylabel('Day Of the Week')\n",
    "plt.show()\n",
    "plt.savefig('Part2(a)(ii).png')"
   ]
  },
  {
   "cell_type": "code",
   "execution_count": null,
   "id": "151b4e21",
   "metadata": {},
   "outputs": [],
   "source": []
  }
 ],
 "metadata": {
  "kernelspec": {
   "display_name": "Python 3 (ipykernel)",
   "language": "python",
   "name": "python3"
  },
  "language_info": {
   "codemirror_mode": {
    "name": "ipython",
    "version": 3
   },
   "file_extension": ".py",
   "mimetype": "text/x-python",
   "name": "python",
   "nbconvert_exporter": "python",
   "pygments_lexer": "ipython3",
   "version": "3.11.4"
  }
 },
 "nbformat": 4,
 "nbformat_minor": 5
}
