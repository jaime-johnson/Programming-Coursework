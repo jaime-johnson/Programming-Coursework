{
 "cells": [
  {
   "cell_type": "markdown",
   "id": "f5d2799d",
   "metadata": {},
   "source": [
    "Evaluate whether older planes suffer more delays on a year-to-year basis"
   ]
  },
  {
   "cell_type": "code",
   "execution_count": 1,
   "id": "e224b86f",
   "metadata": {},
   "outputs": [],
   "source": [
    "#Importing Libraries\n",
    "import pandas as pd\n",
    "import numpy as np\n",
    "import matplotlib.pyplot as plt\n",
    "import seaborn as sns"
   ]
  },
  {
   "cell_type": "code",
   "execution_count": 2,
   "id": "e0c0e806",
   "metadata": {},
   "outputs": [
    {
     "data": {
      "text/plain": [
       "(14268895, 29)"
      ]
     },
     "execution_count": 2,
     "metadata": {},
     "output_type": "execute_result"
    }
   ],
   "source": [
    "#Importing the cleaned dataset\n",
    "df = pd.read_csv(\"cleaned_dataset_2006_2007.csv\")\n",
    "df.shape"
   ]
  },
  {
   "cell_type": "code",
   "execution_count": 3,
   "id": "c4282bfd",
   "metadata": {},
   "outputs": [
    {
     "data": {
      "text/html": [
       "<div>\n",
       "<style scoped>\n",
       "    .dataframe tbody tr th:only-of-type {\n",
       "        vertical-align: middle;\n",
       "    }\n",
       "\n",
       "    .dataframe tbody tr th {\n",
       "        vertical-align: top;\n",
       "    }\n",
       "\n",
       "    .dataframe thead th {\n",
       "        text-align: right;\n",
       "    }\n",
       "</style>\n",
       "<table border=\"1\" class=\"dataframe\">\n",
       "  <thead>\n",
       "    <tr style=\"text-align: right;\">\n",
       "      <th></th>\n",
       "      <th>Year</th>\n",
       "      <th>Month</th>\n",
       "      <th>DayofMonth</th>\n",
       "      <th>DayOfWeek</th>\n",
       "      <th>DepTime</th>\n",
       "      <th>CRSDepTime</th>\n",
       "      <th>ArrTime</th>\n",
       "      <th>CRSArrTime</th>\n",
       "      <th>UniqueCarrier</th>\n",
       "      <th>FlightNum</th>\n",
       "      <th>...</th>\n",
       "      <th>TaxiIn</th>\n",
       "      <th>TaxiOut</th>\n",
       "      <th>Cancelled</th>\n",
       "      <th>Diverted</th>\n",
       "      <th>CarrierDelay</th>\n",
       "      <th>WeatherDelay</th>\n",
       "      <th>NASDelay</th>\n",
       "      <th>SecurityDelay</th>\n",
       "      <th>LateAircraftDelay</th>\n",
       "      <th>TotalDelay</th>\n",
       "    </tr>\n",
       "  </thead>\n",
       "  <tbody>\n",
       "    <tr>\n",
       "      <th>0</th>\n",
       "      <td>2006</td>\n",
       "      <td>1</td>\n",
       "      <td>11</td>\n",
       "      <td>3</td>\n",
       "      <td>743.0</td>\n",
       "      <td>745</td>\n",
       "      <td>1024.0</td>\n",
       "      <td>1018</td>\n",
       "      <td>US</td>\n",
       "      <td>343</td>\n",
       "      <td>...</td>\n",
       "      <td>45</td>\n",
       "      <td>13</td>\n",
       "      <td>0</td>\n",
       "      <td>0</td>\n",
       "      <td>0</td>\n",
       "      <td>0</td>\n",
       "      <td>0</td>\n",
       "      <td>0</td>\n",
       "      <td>0</td>\n",
       "      <td>4.0</td>\n",
       "    </tr>\n",
       "    <tr>\n",
       "      <th>1</th>\n",
       "      <td>2006</td>\n",
       "      <td>1</td>\n",
       "      <td>11</td>\n",
       "      <td>3</td>\n",
       "      <td>1053.0</td>\n",
       "      <td>1053</td>\n",
       "      <td>1313.0</td>\n",
       "      <td>1318</td>\n",
       "      <td>US</td>\n",
       "      <td>613</td>\n",
       "      <td>...</td>\n",
       "      <td>27</td>\n",
       "      <td>19</td>\n",
       "      <td>0</td>\n",
       "      <td>0</td>\n",
       "      <td>0</td>\n",
       "      <td>0</td>\n",
       "      <td>0</td>\n",
       "      <td>0</td>\n",
       "      <td>0</td>\n",
       "      <td>-5.0</td>\n",
       "    </tr>\n",
       "    <tr>\n",
       "      <th>2</th>\n",
       "      <td>2006</td>\n",
       "      <td>1</td>\n",
       "      <td>11</td>\n",
       "      <td>3</td>\n",
       "      <td>1915.0</td>\n",
       "      <td>1915</td>\n",
       "      <td>2110.0</td>\n",
       "      <td>2133</td>\n",
       "      <td>US</td>\n",
       "      <td>617</td>\n",
       "      <td>...</td>\n",
       "      <td>4</td>\n",
       "      <td>11</td>\n",
       "      <td>0</td>\n",
       "      <td>0</td>\n",
       "      <td>0</td>\n",
       "      <td>0</td>\n",
       "      <td>0</td>\n",
       "      <td>0</td>\n",
       "      <td>0</td>\n",
       "      <td>-23.0</td>\n",
       "    </tr>\n",
       "    <tr>\n",
       "      <th>3</th>\n",
       "      <td>2006</td>\n",
       "      <td>1</td>\n",
       "      <td>11</td>\n",
       "      <td>3</td>\n",
       "      <td>1753.0</td>\n",
       "      <td>1755</td>\n",
       "      <td>1925.0</td>\n",
       "      <td>1933</td>\n",
       "      <td>US</td>\n",
       "      <td>300</td>\n",
       "      <td>...</td>\n",
       "      <td>16</td>\n",
       "      <td>10</td>\n",
       "      <td>0</td>\n",
       "      <td>0</td>\n",
       "      <td>0</td>\n",
       "      <td>0</td>\n",
       "      <td>0</td>\n",
       "      <td>0</td>\n",
       "      <td>0</td>\n",
       "      <td>-10.0</td>\n",
       "    </tr>\n",
       "    <tr>\n",
       "      <th>4</th>\n",
       "      <td>2006</td>\n",
       "      <td>1</td>\n",
       "      <td>11</td>\n",
       "      <td>3</td>\n",
       "      <td>824.0</td>\n",
       "      <td>832</td>\n",
       "      <td>1015.0</td>\n",
       "      <td>1015</td>\n",
       "      <td>US</td>\n",
       "      <td>765</td>\n",
       "      <td>...</td>\n",
       "      <td>27</td>\n",
       "      <td>12</td>\n",
       "      <td>0</td>\n",
       "      <td>0</td>\n",
       "      <td>0</td>\n",
       "      <td>0</td>\n",
       "      <td>0</td>\n",
       "      <td>0</td>\n",
       "      <td>0</td>\n",
       "      <td>-8.0</td>\n",
       "    </tr>\n",
       "  </tbody>\n",
       "</table>\n",
       "<p>5 rows × 29 columns</p>\n",
       "</div>"
      ],
      "text/plain": [
       "   Year  Month  DayofMonth  DayOfWeek  DepTime  CRSDepTime  ArrTime  \\\n",
       "0  2006      1          11          3    743.0         745   1024.0   \n",
       "1  2006      1          11          3   1053.0        1053   1313.0   \n",
       "2  2006      1          11          3   1915.0        1915   2110.0   \n",
       "3  2006      1          11          3   1753.0        1755   1925.0   \n",
       "4  2006      1          11          3    824.0         832   1015.0   \n",
       "\n",
       "   CRSArrTime UniqueCarrier  FlightNum  ... TaxiIn  TaxiOut  Cancelled  \\\n",
       "0        1018            US        343  ...     45       13          0   \n",
       "1        1318            US        613  ...     27       19          0   \n",
       "2        2133            US        617  ...      4       11          0   \n",
       "3        1933            US        300  ...     16       10          0   \n",
       "4        1015            US        765  ...     27       12          0   \n",
       "\n",
       "   Diverted  CarrierDelay  WeatherDelay NASDelay SecurityDelay  \\\n",
       "0         0             0             0        0             0   \n",
       "1         0             0             0        0             0   \n",
       "2         0             0             0        0             0   \n",
       "3         0             0             0        0             0   \n",
       "4         0             0             0        0             0   \n",
       "\n",
       "   LateAircraftDelay  TotalDelay  \n",
       "0                  0         4.0  \n",
       "1                  0        -5.0  \n",
       "2                  0       -23.0  \n",
       "3                  0       -10.0  \n",
       "4                  0        -8.0  \n",
       "\n",
       "[5 rows x 29 columns]"
      ]
     },
     "execution_count": 3,
     "metadata": {},
     "output_type": "execute_result"
    }
   ],
   "source": [
    "df.head()"
   ]
  },
  {
   "cell_type": "code",
   "execution_count": 4,
   "id": "2d062568",
   "metadata": {},
   "outputs": [],
   "source": [
    "#Importing plane data\n",
    "plane_data = pd.read_csv(r\"C:\\Users\\jaime\\Desktop\\excel for programming\\plane-data.csv\")"
   ]
  },
  {
   "cell_type": "code",
   "execution_count": 5,
   "id": "385c083c",
   "metadata": {},
   "outputs": [
    {
     "data": {
      "text/html": [
       "<div>\n",
       "<style scoped>\n",
       "    .dataframe tbody tr th:only-of-type {\n",
       "        vertical-align: middle;\n",
       "    }\n",
       "\n",
       "    .dataframe tbody tr th {\n",
       "        vertical-align: top;\n",
       "    }\n",
       "\n",
       "    .dataframe thead th {\n",
       "        text-align: right;\n",
       "    }\n",
       "</style>\n",
       "<table border=\"1\" class=\"dataframe\">\n",
       "  <thead>\n",
       "    <tr style=\"text-align: right;\">\n",
       "      <th></th>\n",
       "      <th>tailnum</th>\n",
       "      <th>type</th>\n",
       "      <th>manufacturer</th>\n",
       "      <th>issue_date</th>\n",
       "      <th>model</th>\n",
       "      <th>status</th>\n",
       "      <th>aircraft_type</th>\n",
       "      <th>engine_type</th>\n",
       "      <th>year</th>\n",
       "    </tr>\n",
       "  </thead>\n",
       "  <tbody>\n",
       "    <tr>\n",
       "      <th>0</th>\n",
       "      <td>N050AA</td>\n",
       "      <td>NaN</td>\n",
       "      <td>NaN</td>\n",
       "      <td>NaN</td>\n",
       "      <td>NaN</td>\n",
       "      <td>NaN</td>\n",
       "      <td>NaN</td>\n",
       "      <td>NaN</td>\n",
       "      <td>NaN</td>\n",
       "    </tr>\n",
       "    <tr>\n",
       "      <th>1</th>\n",
       "      <td>N051AA</td>\n",
       "      <td>NaN</td>\n",
       "      <td>NaN</td>\n",
       "      <td>NaN</td>\n",
       "      <td>NaN</td>\n",
       "      <td>NaN</td>\n",
       "      <td>NaN</td>\n",
       "      <td>NaN</td>\n",
       "      <td>NaN</td>\n",
       "    </tr>\n",
       "    <tr>\n",
       "      <th>2</th>\n",
       "      <td>N052AA</td>\n",
       "      <td>NaN</td>\n",
       "      <td>NaN</td>\n",
       "      <td>NaN</td>\n",
       "      <td>NaN</td>\n",
       "      <td>NaN</td>\n",
       "      <td>NaN</td>\n",
       "      <td>NaN</td>\n",
       "      <td>NaN</td>\n",
       "    </tr>\n",
       "    <tr>\n",
       "      <th>3</th>\n",
       "      <td>N054AA</td>\n",
       "      <td>NaN</td>\n",
       "      <td>NaN</td>\n",
       "      <td>NaN</td>\n",
       "      <td>NaN</td>\n",
       "      <td>NaN</td>\n",
       "      <td>NaN</td>\n",
       "      <td>NaN</td>\n",
       "      <td>NaN</td>\n",
       "    </tr>\n",
       "    <tr>\n",
       "      <th>4</th>\n",
       "      <td>N055AA</td>\n",
       "      <td>NaN</td>\n",
       "      <td>NaN</td>\n",
       "      <td>NaN</td>\n",
       "      <td>NaN</td>\n",
       "      <td>NaN</td>\n",
       "      <td>NaN</td>\n",
       "      <td>NaN</td>\n",
       "      <td>NaN</td>\n",
       "    </tr>\n",
       "  </tbody>\n",
       "</table>\n",
       "</div>"
      ],
      "text/plain": [
       "  tailnum type manufacturer issue_date model status aircraft_type engine_type  \\\n",
       "0  N050AA  NaN          NaN        NaN   NaN    NaN           NaN         NaN   \n",
       "1  N051AA  NaN          NaN        NaN   NaN    NaN           NaN         NaN   \n",
       "2  N052AA  NaN          NaN        NaN   NaN    NaN           NaN         NaN   \n",
       "3  N054AA  NaN          NaN        NaN   NaN    NaN           NaN         NaN   \n",
       "4  N055AA  NaN          NaN        NaN   NaN    NaN           NaN         NaN   \n",
       "\n",
       "  year  \n",
       "0  NaN  \n",
       "1  NaN  \n",
       "2  NaN  \n",
       "3  NaN  \n",
       "4  NaN  "
      ]
     },
     "execution_count": 5,
     "metadata": {},
     "output_type": "execute_result"
    }
   ],
   "source": [
    "plane_data.head()"
   ]
  },
  {
   "cell_type": "code",
   "execution_count": 7,
   "id": "4e9f2ab7",
   "metadata": {},
   "outputs": [
    {
     "data": {
      "text/plain": [
       "(5029, 9)"
      ]
     },
     "execution_count": 7,
     "metadata": {},
     "output_type": "execute_result"
    }
   ],
   "source": [
    "plane_data.shape"
   ]
  },
  {
   "cell_type": "code",
   "execution_count": 8,
   "id": "a76b6622",
   "metadata": {},
   "outputs": [
    {
     "data": {
      "text/plain": [
       "tailnum            0\n",
       "type             549\n",
       "manufacturer     549\n",
       "issue_date       549\n",
       "model            549\n",
       "status           549\n",
       "aircraft_type    549\n",
       "engine_type      549\n",
       "year             549\n",
       "dtype: int64"
      ]
     },
     "execution_count": 8,
     "metadata": {},
     "output_type": "execute_result"
    }
   ],
   "source": [
    "plane_data.isnull().sum()"
   ]
  },
  {
   "cell_type": "code",
   "execution_count": 6,
   "id": "b8ea2728",
   "metadata": {},
   "outputs": [],
   "source": [
    "#Extracting only the necessary columns\n",
    "plane_data_filtered = plane_data.filter(['tailnum','year'])"
   ]
  },
  {
   "cell_type": "code",
   "execution_count": 7,
   "id": "bc4b6677",
   "metadata": {},
   "outputs": [
    {
     "name": "stdout",
     "output_type": "stream",
     "text": [
      "     TailNum YearOfManufacture\n",
      "0     N050AA               NaN\n",
      "1     N051AA               NaN\n",
      "2     N052AA               NaN\n",
      "3     N054AA               NaN\n",
      "4     N055AA               NaN\n",
      "...      ...               ...\n",
      "5024  N997DL              1992\n",
      "5025  N998AT              2002\n",
      "5026  N998DL              1992\n",
      "5027  N999CA              1998\n",
      "5028  N999DN              1992\n",
      "\n",
      "[5029 rows x 2 columns]\n"
     ]
    }
   ],
   "source": [
    "#Renaming Columns extracted from thr plane data\n",
    "plane_data_filtered.rename(columns={\"tailnum\":\"TailNum\", \"year\":\"YearOfManufacture\"}, inplace = True)\n",
    "print(plane_data_filtered)"
   ]
  },
  {
   "cell_type": "code",
   "execution_count": 8,
   "id": "382f71fb",
   "metadata": {},
   "outputs": [
    {
     "name": "stdout",
     "output_type": "stream",
     "text": [
      "         TailNum  TotalDelay\n",
      "0         N657AW         4.0\n",
      "1         N834AW        -5.0\n",
      "2         N605AW       -23.0\n",
      "3         N312AW       -10.0\n",
      "4         N309AW        -8.0\n",
      "...          ...         ...\n",
      "14268890  N670DN         6.0\n",
      "14268891  N829MH        16.0\n",
      "14268892  N623DL        14.0\n",
      "14268893  N970DL        74.0\n",
      "14268894  N628DL        57.0\n",
      "\n",
      "[14268895 rows x 2 columns]\n"
     ]
    }
   ],
   "source": [
    "#Extracting only the necessary columns from df\n",
    "df_filtered = df.filter(['TailNum','TotalDelay'])\n",
    "print(df_filtered)"
   ]
  },
  {
   "cell_type": "code",
   "execution_count": 9,
   "id": "77760cc2",
   "metadata": {},
   "outputs": [],
   "source": [
    "#Inner Merging df_filtered and plane_data_filtered based on TailNum \n",
    "plane_df_merged = pd.merge(df_filtered,plane_data_filtered, on=['TailNum'])"
   ]
  },
  {
   "cell_type": "code",
   "execution_count": 10,
   "id": "cd1efc1a",
   "metadata": {},
   "outputs": [
    {
     "data": {
      "text/html": [
       "<div>\n",
       "<style scoped>\n",
       "    .dataframe tbody tr th:only-of-type {\n",
       "        vertical-align: middle;\n",
       "    }\n",
       "\n",
       "    .dataframe tbody tr th {\n",
       "        vertical-align: top;\n",
       "    }\n",
       "\n",
       "    .dataframe thead th {\n",
       "        text-align: right;\n",
       "    }\n",
       "</style>\n",
       "<table border=\"1\" class=\"dataframe\">\n",
       "  <thead>\n",
       "    <tr style=\"text-align: right;\">\n",
       "      <th></th>\n",
       "      <th>TailNum</th>\n",
       "      <th>TotalDelay</th>\n",
       "      <th>YearOfManufacture</th>\n",
       "    </tr>\n",
       "  </thead>\n",
       "  <tbody>\n",
       "    <tr>\n",
       "      <th>0</th>\n",
       "      <td>N657AW</td>\n",
       "      <td>4.0</td>\n",
       "      <td>1999</td>\n",
       "    </tr>\n",
       "    <tr>\n",
       "      <th>1</th>\n",
       "      <td>N657AW</td>\n",
       "      <td>-4.0</td>\n",
       "      <td>1999</td>\n",
       "    </tr>\n",
       "    <tr>\n",
       "      <th>2</th>\n",
       "      <td>N657AW</td>\n",
       "      <td>-14.0</td>\n",
       "      <td>1999</td>\n",
       "    </tr>\n",
       "    <tr>\n",
       "      <th>3</th>\n",
       "      <td>N657AW</td>\n",
       "      <td>-7.0</td>\n",
       "      <td>1999</td>\n",
       "    </tr>\n",
       "    <tr>\n",
       "      <th>4</th>\n",
       "      <td>N657AW</td>\n",
       "      <td>3.0</td>\n",
       "      <td>1999</td>\n",
       "    </tr>\n",
       "  </tbody>\n",
       "</table>\n",
       "</div>"
      ],
      "text/plain": [
       "  TailNum  TotalDelay YearOfManufacture\n",
       "0  N657AW         4.0              1999\n",
       "1  N657AW        -4.0              1999\n",
       "2  N657AW       -14.0              1999\n",
       "3  N657AW        -7.0              1999\n",
       "4  N657AW         3.0              1999"
      ]
     },
     "execution_count": 10,
     "metadata": {},
     "output_type": "execute_result"
    }
   ],
   "source": [
    "plane_df_merged.head()"
   ]
  },
  {
   "cell_type": "code",
   "execution_count": 11,
   "id": "7b89ebc5",
   "metadata": {},
   "outputs": [
    {
     "data": {
      "text/plain": [
       "(12611572, 3)"
      ]
     },
     "execution_count": 11,
     "metadata": {},
     "output_type": "execute_result"
    }
   ],
   "source": [
    "plane_df_merged.shape"
   ]
  },
  {
   "cell_type": "code",
   "execution_count": 12,
   "id": "6cf013a5",
   "metadata": {},
   "outputs": [
    {
     "data": {
      "text/plain": [
       "TailNum                   0\n",
       "TotalDelay                0\n",
       "YearOfManufacture    692306\n",
       "dtype: int64"
      ]
     },
     "execution_count": 12,
     "metadata": {},
     "output_type": "execute_result"
    }
   ],
   "source": [
    "#Checking for null values\n",
    "plane_df_merged.isnull().sum()"
   ]
  },
  {
   "cell_type": "code",
   "execution_count": 13,
   "id": "82f79843",
   "metadata": {},
   "outputs": [],
   "source": [
    "#Removing the rows with null values\n",
    "plane_df_merged = plane_df_merged.dropna()"
   ]
  },
  {
   "cell_type": "code",
   "execution_count": 14,
   "id": "c94cdfce",
   "metadata": {},
   "outputs": [
    {
     "data": {
      "text/plain": [
       "TailNum               object\n",
       "TotalDelay           float64\n",
       "YearOfManufacture     object\n",
       "dtype: object"
      ]
     },
     "execution_count": 14,
     "metadata": {},
     "output_type": "execute_result"
    }
   ],
   "source": [
    "plane_df_merged.dtypes"
   ]
  },
  {
   "cell_type": "code",
   "execution_count": 15,
   "id": "8548aa7f",
   "metadata": {},
   "outputs": [
    {
     "data": {
      "text/plain": [
       "2001    1103472\n",
       "2002     888034\n",
       "2000     873247\n",
       "2003     841624\n",
       "1999     838572\n",
       "2004     734459\n",
       "1998     676449\n",
       "2005     592714\n",
       "1988     386627\n",
       "1996     386483\n",
       "1991     368744\n",
       "1997     356413\n",
       "None     350739\n",
       "1992     339039\n",
       "1990     338603\n",
       "1987     334012\n",
       "2006     320450\n",
       "1994     313851\n",
       "1995     307626\n",
       "1989     290508\n",
       "1985     255947\n",
       "1993     254985\n",
       "1986     229833\n",
       "2007      89002\n",
       "1984      66833\n",
       "1968      65127\n",
       "1983      43174\n",
       "1967      36474\n",
       "1969      34318\n",
       "1979      29235\n",
       "1978      25531\n",
       "1975      24800\n",
       "1976      24755\n",
       "1980      20535\n",
       "1977      13620\n",
       "1982      10946\n",
       "0         10422\n",
       "1973       7901\n",
       "1970       5812\n",
       "1959       5008\n",
       "1966       3205\n",
       "1963       3171\n",
       "1974       3148\n",
       "1962       2814\n",
       "1964       2792\n",
       "1971       2783\n",
       "1965       2550\n",
       "1957       1792\n",
       "1956        556\n",
       "1972        531\n",
       "Name: YearOfManufacture, dtype: int64"
      ]
     },
     "execution_count": 15,
     "metadata": {},
     "output_type": "execute_result"
    }
   ],
   "source": [
    "plane_df_merged['YearOfManufacture'].value_counts()"
   ]
  },
  {
   "cell_type": "code",
   "execution_count": 16,
   "id": "142c6d79",
   "metadata": {},
   "outputs": [
    {
     "data": {
      "text/plain": [
       "(11558105, 3)"
      ]
     },
     "execution_count": 16,
     "metadata": {},
     "output_type": "execute_result"
    }
   ],
   "source": [
    "#Removing the rows with year of manufacture as 0 and None\n",
    "plane_df_merged.drop(plane_df_merged[(plane_df_merged['YearOfManufacture'] == '0') | (plane_df_merged['YearOfManufacture'] == 'None') ].index, inplace = True)\n",
    "plane_df_merged.shape"
   ]
  },
  {
   "cell_type": "code",
   "execution_count": 17,
   "id": "9e0b2a0f",
   "metadata": {},
   "outputs": [],
   "source": [
    "#Changing the data type as integer for the Year of manufacture column\n",
    "plane_df_merged['YearOfManufacture'] = plane_df_merged['YearOfManufacture'].astype(int)"
   ]
  },
  {
   "cell_type": "code",
   "execution_count": 18,
   "id": "9f827948",
   "metadata": {},
   "outputs": [
    {
     "data": {
      "text/plain": [
       "TailNum               object\n",
       "TotalDelay           float64\n",
       "YearOfManufacture      int32\n",
       "dtype: object"
      ]
     },
     "execution_count": 18,
     "metadata": {},
     "output_type": "execute_result"
    }
   ],
   "source": [
    "plane_df_merged.dtypes"
   ]
  },
  {
   "cell_type": "code",
   "execution_count": 19,
   "id": "be3b32ce",
   "metadata": {},
   "outputs": [],
   "source": [
    "plane_df_merged['AverageTotalDelay'] = plane_df_merged.groupby('YearOfManufacture')['TotalDelay'].transform('mean')"
   ]
  },
  {
   "cell_type": "code",
   "execution_count": 20,
   "id": "09693f1b",
   "metadata": {},
   "outputs": [
    {
     "data": {
      "image/png": "[encoded data removed]",
      "text/plain": [
       "<Figure size 800x400 with 1 Axes>"
      ]
     },
     "metadata": {},
     "output_type": "display_data"
    }
   ],
   "source": [
    "#plotting a scatter plots with a overlaid regression line\n",
    "sns.lmplot(x='YearOfManufacture', y=\"AverageTotalDelay\", data=plane_df_merged,\n",
    "          aspect = 2, height= 4, palette = \"mediumorchid\")\n",
    "plt.title(\"Flight Delays Based on Year of Manufacture\", size=18)\n",
    "plt.xlabel(\"Year of Manufacture\", fontsize=15)\n",
    "plt.ylabel(\"Average Total Delay\", fontsize=15)\n",
    "plt.grid()\n",
    "plt.show\n",
    "plt.savefig('Part 2 (b).png')\n"
   ]
  }
 ],
 "metadata": {
  "kernelspec": {
   "display_name": "Python 3 (ipykernel)",
   "language": "python",
   "name": "python3"
  },
  "language_info": {
   "codemirror_mode": {
    "name": "ipython",
    "version": 3
   },
   "file_extension": ".py",
   "mimetype": "text/x-python",
   "name": "python",
   "nbconvert_exporter": "python",
   "pygments_lexer": "ipython3",
   "version": "3.11.4"
  }
 },
 "nbformat": 4,
 "nbformat_minor": 5
}
